{
 "metadata": {
  "name": ""
 },
 "nbformat": 3,
 "nbformat_minor": 0,
 "worksheets": [
  {
   "cells": [
    {
     "cell_type": "heading",
     "level": 1,
     "metadata": {
      "slideshow": {
       "slide_type": "-"
      }
     },
     "source": [
      "                                                        Projeck:EE of BATSE GRB"
     ]
    },
    {
     "cell_type": "markdown",
     "metadata": {},
     "source": [
      "This script is used to do Bayesian Block analysis with the ascii file of BATSE GRB\n",
      "\n",
      "Author:Enbo Yang(enboyang1990@gmail.com)\n",
      "\n",
      "Lisence:GPLv2"
     ]
    },
    {
     "cell_type": "heading",
     "level": 2,
     "metadata": {},
     "source": [
      "Module preparing"
     ]
    },
    {
     "cell_type": "code",
     "collapsed": false,
     "input": [
      "import numpy as np\n",
      "import matplotlib.pyplot as plt\n",
      "from astroML.plotting import hist"
     ],
     "language": "python",
     "metadata": {},
     "outputs": [],
     "prompt_number": 2
    },
    {
     "cell_type": "heading",
     "level": 2,
     "metadata": {},
     "source": [
      "Split data of each channel"
     ]
    },
    {
     "cell_type": "code",
     "collapsed": false,
     "input": [
      "#This part is used to split channel data of the ascii file of a burst\n",
      "'''\n",
      "    Because of the bug in numpy.genfromtxt( cannot read a file with differential rows to a array), so I use numpy.fromstring instead.\n",
      "    \n",
      "    timedata: First array in ascii file, stand for the photon arrival time(need to be redit here!)\n",
      "    \n",
      "    chdata: Second array in ascii file, stand for the channel information.\n",
      "    \n",
      "    totalno: The number of photons that arrived the detectored\n",
      "'''\n",
      "timedata=np.fromstring(''.join(open('07599.time','r').read().splitlines()),sep=' ') # CAUTIONS: Need to give the time file manually\n",
      "chdata=np.fromstring(''.join(open('07599.channel','r').read().splitlines()),sep=' ')\n",
      "(totalno,)=np.shape(timedata)\n",
      "\n",
      "n=0 # n is just a temporary variable here, maybe need to be changed if conflict\n",
      "while n<totalno:\n",
      "    f=open(\"07599.time.CH%i\"%chdata[n],'a')\n",
      "    f.write(\"%f\"%timedata[n]+'\\n')\n",
      "    f.close()\n",
      "    n+=1\n"
     ],
     "language": "python",
     "metadata": {},
     "outputs": [],
     "prompt_number": 3
    },
    {
     "cell_type": "heading",
     "level": 2,
     "metadata": {},
     "source": [
      "Do Bayesian Block analysis"
     ]
    },
    {
     "cell_type": "heading",
     "level": 3,
     "metadata": {},
     "source": [
      "total data"
     ]
    },
    {
     "cell_type": "code",
     "collapsed": false,
     "input": [
      "plt.subplot(211)\n",
      "hist(timedata/1000,bins='blocks',histtype='step',color='red')\n",
      "plt.title(\"test\")\n",
      "plt.subplot(212)\n",
      "hist(timedata/1000,bins='knuth',histtype='step',color='red')\n",
      "plt.title(\"test2\")\n",
      "plt.savefig(\"07599.png\",dpi=200)"
     ],
     "language": "python",
     "metadata": {},
     "outputs": [
      {
       "output_type": "stream",
       "stream": "stdout",
       "text": [
        "Optimization terminated successfully.\n",
        "         Current function value: -230.952926\n",
        "         Iterations: 15\n",
        "         Function evaluations: 42\n"
       ]
      }
     ],
     "prompt_number": 5
    },
    {
     "cell_type": "code",
     "collapsed": false,
     "input": [
      "plt.plot(n,timedata[n])\n",
      "plt.show()"
     ],
     "language": "python",
     "metadata": {},
     "outputs": [
      {
       "ename": "IndexError",
       "evalue": "index out of bounds",
       "output_type": "pyerr",
       "traceback": [
        "\u001b[0;31m---------------------------------------------------------------------------\u001b[0m\n\u001b[0;31mIndexError\u001b[0m                                Traceback (most recent call last)",
        "\u001b[0;32m<ipython-input-95-142bd1e9dec6>\u001b[0m in \u001b[0;36m<module>\u001b[0;34m()\u001b[0m\n\u001b[0;32m----> 1\u001b[0;31m \u001b[0mplt\u001b[0m\u001b[0;34m.\u001b[0m\u001b[0mplot\u001b[0m\u001b[0;34m(\u001b[0m\u001b[0mn\u001b[0m\u001b[0;34m,\u001b[0m\u001b[0mtimedata\u001b[0m\u001b[0;34m[\u001b[0m\u001b[0mn\u001b[0m\u001b[0;34m]\u001b[0m\u001b[0;34m)\u001b[0m\u001b[0;34m\u001b[0m\u001b[0m\n\u001b[0m\u001b[1;32m      2\u001b[0m \u001b[0mplt\u001b[0m\u001b[0;34m.\u001b[0m\u001b[0mshow\u001b[0m\u001b[0;34m(\u001b[0m\u001b[0;34m)\u001b[0m\u001b[0;34m\u001b[0m\u001b[0m\n",
        "\u001b[0;31mIndexError\u001b[0m: index out of bounds"
       ]
      }
     ],
     "prompt_number": 95
    },
    {
     "cell_type": "code",
     "collapsed": false,
     "input": [],
     "language": "python",
     "metadata": {},
     "outputs": []
    }
   ],
   "metadata": {}
  }
 ]
}
