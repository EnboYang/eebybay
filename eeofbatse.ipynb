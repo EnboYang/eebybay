{
 "metadata": {
  "name": ""
 },
 "nbformat": 3,
 "nbformat_minor": 0,
 "worksheets": [
  {
   "cells": [
    {
     "cell_type": "heading",
     "level": 1,
     "metadata": {
      "slideshow": {
       "slide_type": "-"
      }
     },
     "source": [
      "Project:BB Analysis of BATSE GRB"
     ]
    },
    {
     "cell_type": "markdown",
     "metadata": {},
     "source": [
      "This script is used to do Bayesian Block analysis with the ascii file of BATSE GRB\n",
      "\n",
      "Author:Enbo Yang(enboyang1990@gmail.com)\n",
      "\n",
      "Lisence:GPLv2"
     ]
    },
    {
     "cell_type": "heading",
     "level": 2,
     "metadata": {},
     "source": [
      "Module preparing"
     ]
    },
    {
     "cell_type": "code",
     "collapsed": false,
     "input": [
      "import numpy as np\n",
      "import matplotlib.pyplot as plt\n",
      "from astroML.plotting import hist as bbhist"
     ],
     "language": "python",
     "metadata": {},
     "outputs": [],
     "prompt_number": 1
    },
    {
     "cell_type": "heading",
     "level": 2,
     "metadata": {},
     "source": [
      "Get the Trigger Num"
     ]
    },
    {
     "cell_type": "code",
     "collapsed": false,
     "input": [
      "trig=raw_input('Please input the tigger:')"
     ],
     "language": "python",
     "metadata": {},
     "outputs": [
      {
       "name": "stdout",
       "output_type": "stream",
       "stream": "stdout",
       "text": [
        "Please input the tigger:00906\n"
       ]
      }
     ],
     "prompt_number": 8
    },
    {
     "cell_type": "heading",
     "level": 2,
     "metadata": {},
     "source": [
      "Create file to save the channel data"
     ]
    },
    {
     "cell_type": "code",
     "collapsed": false,
     "input": [
      "chnum=1\n",
      "while chnum<=4:\n",
      "    f=open(\"%s.time.CH%s\"%(trig,chnum),'w')\n",
      "    f.close()\n",
      "    chnum+=1"
     ],
     "language": "python",
     "metadata": {},
     "outputs": [],
     "prompt_number": 9
    },
    {
     "cell_type": "heading",
     "level": 2,
     "metadata": {},
     "source": [
      "Split data of each channel"
     ]
    },
    {
     "cell_type": "code",
     "collapsed": false,
     "input": [
      "#This part is used to split channel data of the ascii file of a burst\n",
      "'''\n",
      "    Because of the bug in numpy.genfromtxt( cannot read a file with differential rows to a array), so I use numpy.fromstring instead.\n",
      "    \n",
      "    timedata: First array in ascii file, stand for the photon arrival time(need to be redit here!)\n",
      "    \n",
      "    chdata: Second array in ascii file, stand for the channel information.\n",
      "    \n",
      "    totalno: The number of photons that arrived the detectored\n",
      "'''\n",
      "timedata=np.fromstring(''.join(open('%s.time'%trig,'r').read().splitlines()),sep=' ') # CAUTIONS: Need to give the time file manually\n",
      "chdata=np.fromstring(''.join(open('%s.channel'%trig,'r').read().splitlines()),sep=' ')\n",
      "(totalno,)=np.shape(timedata)\n",
      "\n",
      "n=0 # n is just a temporary variable here, maybe need to be changed if conflict\n",
      "while n<totalno:\n",
      "    f=open(\"%s.time.CH%i\"%(trig,chdata[n]),'a')\n",
      "    f.write(\"%f\"%timedata[n]+'\\n')\n",
      "    f.close()\n",
      "    n+=1\n"
     ],
     "language": "python",
     "metadata": {},
     "outputs": [],
     "prompt_number": 10
    },
    {
     "cell_type": "heading",
     "level": 2,
     "metadata": {},
     "source": [
      "Do Bayesian Block analysis"
     ]
    },
    {
     "cell_type": "markdown",
     "metadata": {},
     "source": [
      "During the analysis, we add Knuth bins ,Scott bins and Freedman bins as comparision."
     ]
    },
    {
     "cell_type": "heading",
     "level": 3,
     "metadata": {},
     "source": [
      "total data"
     ]
    },
    {
     "cell_type": "code",
     "collapsed": false,
     "input": [
      "#We use standard histogram as background, then Knuth bins & Bayesian block\n",
      "fig,axes = plt.subplots(2,1,figsize=(9,6))\n",
      "\n",
      "axes[0].hist(timedata/1000000,bins=64,color='blue',histtype='step',label='64ms')\n",
      "axes[0].set_title('bins=64')\n",
      "axes[0].set_xlabel('Time/second')\n",
      "axes[0].set_ylabel('Count')\n",
      "axes[0].legend(loc='best')\n",
      "\n",
      "\n",
      "axes[1].hist(timedata/1000000,bins=1000,color='blue',histtype='step',normed='True',label='bins=1s')\n",
      "bbhist(timedata/1000000,bins='blocks',color='red',histtype='step',normed='True',label='bayesian')\n",
      "axes[1].legend(loc='best')\n",
      "axes[1].set_title('Bayesian block')\n",
      "axes[1].set_xlabel('Time/second')\n",
      "axes[1].set_ylabel('Count Rate($s^{-1}$)')\n",
      "axes[1].set_ylim([0,2])\n",
      "\n",
      "fig.tight_layout()\n",
      "fig.savefig('%s.eps'%trig)\n",
      "\n"
     ],
     "language": "python",
     "metadata": {},
     "outputs": [],
     "prompt_number": 11
    },
    {
     "cell_type": "heading",
     "level": 2,
     "metadata": {},
     "source": [
      "Channel data"
     ]
    },
    {
     "cell_type": "heading",
     "level": 3,
     "metadata": {},
     "source": [
      "Read Channel data from file"
     ]
    },
    {
     "cell_type": "code",
     "collapsed": false,
     "input": [
      "ch1time=np.genfromtxt('%s.time.CH1'%trig)\n",
      "ch2time=np.genfromtxt('%s.time.CH2'%trig)\n",
      "ch3time=np.genfromtxt('%s.time.CH3'%trig)\n",
      "ch4time=np.genfromtxt('%s.time.CH4'%trig)\n",
      "\n",
      "'''\n",
      "(count1,)=ch1time.shape\n",
      "(count2,)=ch2time.shape\n",
      "(count3,)=ch3time.shape\n",
      "(count4,)=ch4time.shape\n",
      "\n",
      "\n",
      "ch1time=np.reshape(ch1time,[count1,1])\n",
      "ch2time=np.reshape(ch2time,[count2,1])\n",
      "ch3time=np.reshape(ch3time,[count3,1])\n",
      "ch4time=np.reshape(ch4time,[count4,1])\n",
      "'''"
     ],
     "language": "python",
     "metadata": {},
     "outputs": []
    },
    {
     "cell_type": "heading",
     "level": 3,
     "metadata": {},
     "source": [
      "Plot data in one Picture"
     ]
    },
    {
     "cell_type": "code",
     "collapsed": false,
     "input": [
      "fig=plt.figure(figsize=(15,11))\n",
      "\n",
      "# Channel 1 (25~50 keV)\n",
      "\n",
      "axes=plt.subplot(2,2,1)\n",
      "axes.hist(ch1time/1000,bins=128,color='blue',normed='True',histtype='step',label='bins=1s')\n",
      "bbhist(ch1time/1000,bins='blocks',color='red',normed='True',histtype='step',label='bayesian')\n",
      "axes.legend(loc='best')\n",
      "axes.set_title('Channel 1')\n",
      "axes.set_xlabel('Time/second')\n",
      "axes.set_ylabel('Count Rate($s^{-1}$)')\n",
      "\n",
      "# Channel 2 (50~150 keV)\n",
      "\n",
      "axes=plt.subplot(2,2,2)\n",
      "axes.hist(ch2time/1000,bins=128,color='blue',normed='True',histtype='step',label='bins=1s')\n",
      "bbhist(ch2time/1000,bins='blocks',color='red',normed='True',histtype='step',label='bayesian')\n",
      "axes.legend(loc='best')\n",
      "axes.set_title('Channel 2')\n",
      "axes.set_xlabel('Time/second')\n",
      "axes.set_ylabel('Count Rate($s^{-1}$)')\n",
      "\n",
      "# Channel 3 (150~300 keV)\n",
      "\n",
      "axes=plt.subplot(2,2,3)\n",
      "axes.hist(ch3time/1000,bins=128,color='blue',normed='True',histtype='step',label='bins=1s')\n",
      "bbhist(ch3time/1000,bins='blocks',color='red',normed='True',histtype='step',label='bayesian')\n",
      "axes.legend(loc='best')\n",
      "axes.set_title('Channel 3')\n",
      "axes.set_xlabel('Time/second')\n",
      "axes.set_ylabel('Count Rate($s^{-1}$)')\n",
      "axes.set_ylim([0,0.002])\n",
      "\n",
      "# Channel 4 (>=300 keV)\n",
      "\n",
      "axes=plt.subplot(2,2,4)\n",
      "axes.hist(ch4time/1000,bins=128,color='blue',normed='True',histtype='step',label='bins=1s')\n",
      "bbhist(ch4time/1000,bins='blocks',color='red',normed='True',histtype='step',label='bayesian')\n",
      "axes.legend(loc='best')\n",
      "axes.set_title('Channel 4')\n",
      "axes.set_xlabel('Time/second')\n",
      "axes.set_ylabel('Count Rate($s^{-1}$)')\n",
      "\n",
      "fig.tight_layout()\n",
      "fig.savefig('%sCH.png'%trig,dpi=200)"
     ],
     "language": "python",
     "metadata": {},
     "outputs": []
    },
    {
     "cell_type": "heading",
     "level": 2,
     "metadata": {},
     "source": [
      "Test Part"
     ]
    },
    {
     "cell_type": "code",
     "collapsed": false,
     "input": [],
     "language": "python",
     "metadata": {},
     "outputs": []
    }
   ],
   "metadata": {}
  }
 ]
}