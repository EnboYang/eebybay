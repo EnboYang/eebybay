{
 "metadata": {
  "name": ""
 },
 "nbformat": 3,
 "nbformat_minor": 0,
 "worksheets": [
  {
   "cells": [
    {
     "cell_type": "heading",
     "level": 1,
     "metadata": {},
     "source": [
      "BBA of Fermi GBM Burst"
     ]
    },
    {
     "cell_type": "markdown",
     "metadata": {},
     "source": [
      "This scipt is used to do Bayesian Blocks analysis of Fermi Gamma Ray Burst sample.\n",
      "\n",
      "Author:Enbo Yang(enboyang1990@gmail.com)\n",
      "\n",
      "Lisence:GPLv2"
     ]
    },
    {
     "cell_type": "heading",
     "level": 2,
     "metadata": {},
     "source": [
      "Modules Prepare"
     ]
    },
    {
     "cell_type": "code",
     "collapsed": false,
     "input": [
      "import numpy as np\n",
      "import pyfits #here if you didn't have pyfits installed but astropy, astropy.io.fits can be used instead\n",
      "from astroML.plotting import hist as bbhist\n",
      "import matplotlib.pyplot as plt\n"
     ],
     "language": "python",
     "metadata": {},
     "outputs": [],
     "prompt_number": 3
    },
    {
     "cell_type": "code",
     "collapsed": false,
     "input": [
      "%pylab inline \n",
      "# This line is used to show the ouput in the ipython notebook"
     ],
     "language": "python",
     "metadata": {},
     "outputs": [
      {
       "output_type": "stream",
       "stream": "stdout",
       "text": [
        "Populating the interactive namespace from numpy and matplotlib\n"
       ]
      }
     ],
     "prompt_number": 41
    },
    {
     "cell_type": "heading",
     "level": 2,
     "metadata": {},
     "source": [
      "Input trig and event type"
     ]
    },
    {
     "cell_type": "markdown",
     "metadata": {},
     "source": [
      "To make this script be able to handle different type of fits files, you need to input the trigger of a burst, like \"130617564\", and event type, like \"cspec\", \"ctime\" or \"tte\""
     ]
    },
    {
     "cell_type": "code",
     "collapsed": false,
     "input": [
      "trig=raw_input('The trigger of the burst:\\n')\n",
      "fittype=raw_input('The event file type(cspec, ctime or tte):')\n"
     ],
     "language": "python",
     "metadata": {},
     "outputs": [
      {
       "name": "stdout",
       "output_type": "stream",
       "stream": "stdout",
       "text": [
        "The trigger of the burst:\n",
        "130617564\n"
       ]
      },
      {
       "name": "stdout",
       "output_type": "stream",
       "stream": "stdout",
       "text": [
        "The event file type(cspec, ctime or tte):tte\n"
       ]
      }
     ],
     "prompt_number": 1
    },
    {
     "cell_type": "heading",
     "level": 2,
     "metadata": {},
     "source": [
      "Handle fits file"
     ]
    },
    {
     "cell_type": "markdown",
     "metadata": {},
     "source": [
      "The fits files are downloade from [Fermi archieve](http://heasarc.gsfc.nasa.gov/FTP/fermi/data/gbm/bursts/)(http://heasarc.gsfc.nasa.gov/FTP/fermi/data/gbm/bursts/)\n",
      "\n",
      "Because of unknown bug, we cannot do bba with the tte data, so we use cspec and ctime data instead. Maybe the bug can be fixed later"
     ]
    },
    {
     "cell_type": "heading",
     "level": 3,
     "metadata": {},
     "source": [
      "open fits"
     ]
    },
    {
     "cell_type": "code",
     "collapsed": false,
     "input": [
      "fitdata=pyfits.open('glg_%s_n0_bn%s_v00.fit'%(fittype,trig))\n",
      "fitdata.info()"
     ],
     "language": "python",
     "metadata": {},
     "outputs": [
      {
       "output_type": "stream",
       "stream": "stdout",
       "text": [
        "Filename: glg_tte_n0_bn130617564_v00.fit\n",
        "No.    Name         Type      Cards   Dimensions   Format\n",
        "0    PRIMARY     PrimaryHDU      41   ()              \n",
        "1    EBOUNDS     BinTableHDU     58   128R x 3C    [1I, 1E, 1E]   \n",
        "2    EVENTS      BinTableHDU     48   625761R x 2C   [1D, 1I]   \n",
        "3    GTI         BinTableHDU     44   1R x 2C      [1D, 1D]   \n"
       ]
      }
     ],
     "prompt_number": 4
    },
    {
     "cell_type": "heading",
     "level": 3,
     "metadata": {},
     "source": [
      "Time and counts"
     ]
    },
    {
     "cell_type": "markdown",
     "metadata": {},
     "source": [
      "Get the time and counts data from the fits file, and preserve these data in time and counts(two numpy.array)\n",
      "\n",
      "* **time:**   photon arrive time.\n",
      "* **counts:**  count data(s)."
     ]
    },
    {
     "cell_type": "code",
     "collapsed": false,
     "input": [
      "time=fitdata['events'].data.field('time')\n",
      "#counts=fitdata['spectrum'].data.field('counts')"
     ],
     "language": "python",
     "metadata": {},
     "outputs": [],
     "prompt_number": 11
    },
    {
     "cell_type": "heading",
     "level": 3,
     "metadata": {},
     "source": [
      "close fits"
     ]
    },
    {
     "cell_type": "code",
     "collapsed": false,
     "input": [
      "fitdata.close()"
     ],
     "language": "python",
     "metadata": {},
     "outputs": [],
     "prompt_number": 7
    },
    {
     "cell_type": "heading",
     "level": 2,
     "metadata": {},
     "source": [
      "Bayesian Block Analysis"
     ]
    },
    {
     "cell_type": "code",
     "collapsed": false,
     "input": [
      "plt.subplot(211)\n",
      "bbhist(time,bins='blocks',histtype='step',color='red',label='bb')\n",
      "plt.hist(time,bins=100,histtype='step',color='k',label='test')\n",
      "plt.ylim((-10,700))\n",
      "plt.title(\"test\")\n",
      "plt.legend()\n",
      "plt.subplot(212)\n",
      "plt.plot(time,counts[:,0],'r')\n",
      "plt.show()"
     ],
     "language": "python",
     "metadata": {},
     "outputs": [],
     "prompt_number": 14
    },
    {
     "cell_type": "code",
     "collapsed": false,
     "input": [
      "bbhist(time,bins='blocks',histtype='step',color='red',label='bb')"
     ],
     "language": "python",
     "metadata": {},
     "outputs": [
      {
       "ename": "KeyboardInterrupt",
       "evalue": "",
       "output_type": "pyerr",
       "traceback": [
        "\u001b[0;31m---------------------------------------------------------------------------\u001b[0m\n\u001b[0;31mKeyboardInterrupt\u001b[0m                         Traceback (most recent call last)",
        "\u001b[0;32m<ipython-input-24-5adce2352233>\u001b[0m in \u001b[0;36m<module>\u001b[0;34m()\u001b[0m\n\u001b[0;32m----> 1\u001b[0;31m \u001b[0mbbhist\u001b[0m\u001b[0;34m(\u001b[0m\u001b[0mtime\u001b[0m\u001b[0;34m,\u001b[0m\u001b[0mbins\u001b[0m\u001b[0;34m=\u001b[0m\u001b[0;34m'blocks'\u001b[0m\u001b[0;34m,\u001b[0m\u001b[0mhisttype\u001b[0m\u001b[0;34m=\u001b[0m\u001b[0;34m'step'\u001b[0m\u001b[0;34m,\u001b[0m\u001b[0mcolor\u001b[0m\u001b[0;34m=\u001b[0m\u001b[0;34m'red'\u001b[0m\u001b[0;34m,\u001b[0m\u001b[0mlabel\u001b[0m\u001b[0;34m=\u001b[0m\u001b[0;34m'bb'\u001b[0m\u001b[0;34m)\u001b[0m\u001b[0;34m\u001b[0m\u001b[0m\n\u001b[0m",
        "\u001b[0;32m/usr/local/lib/python2.7/dist-packages/astroML/plotting/hist_tools.pyc\u001b[0m in \u001b[0;36mhist\u001b[0;34m(x, bins, range, *args, **kwargs)\u001b[0m\n\u001b[1;32m     61\u001b[0m \u001b[0;34m\u001b[0m\u001b[0m\n\u001b[1;32m     62\u001b[0m     \u001b[0;32mif\u001b[0m \u001b[0mbins\u001b[0m \u001b[0;32min\u001b[0m \u001b[0;34m[\u001b[0m\u001b[0;34m'blocks'\u001b[0m\u001b[0;34m]\u001b[0m\u001b[0;34m:\u001b[0m\u001b[0;34m\u001b[0m\u001b[0m\n\u001b[0;32m---> 63\u001b[0;31m         \u001b[0mbins\u001b[0m \u001b[0;34m=\u001b[0m \u001b[0mbayesian_blocks\u001b[0m\u001b[0;34m(\u001b[0m\u001b[0mx\u001b[0m\u001b[0;34m)\u001b[0m\u001b[0;34m\u001b[0m\u001b[0m\n\u001b[0m\u001b[1;32m     64\u001b[0m     \u001b[0;32melif\u001b[0m \u001b[0mbins\u001b[0m \u001b[0;32min\u001b[0m \u001b[0;34m[\u001b[0m\u001b[0;34m'knuth'\u001b[0m\u001b[0;34m,\u001b[0m \u001b[0;34m'knuths'\u001b[0m\u001b[0;34m]\u001b[0m\u001b[0;34m:\u001b[0m\u001b[0;34m\u001b[0m\u001b[0m\n\u001b[1;32m     65\u001b[0m         \u001b[0mdx\u001b[0m\u001b[0;34m,\u001b[0m \u001b[0mbins\u001b[0m \u001b[0;34m=\u001b[0m \u001b[0mknuth_bin_width\u001b[0m\u001b[0;34m(\u001b[0m\u001b[0mx\u001b[0m\u001b[0;34m,\u001b[0m \u001b[0mTrue\u001b[0m\u001b[0;34m)\u001b[0m\u001b[0;34m\u001b[0m\u001b[0m\n",
        "\u001b[0;32m/usr/local/lib/python2.7/dist-packages/astroML/density_estimation/bayesian_blocks.pyc\u001b[0m in \u001b[0;36mbayesian_blocks\u001b[0;34m(t, x, sigma, fitness, **kwargs)\u001b[0m\n\u001b[1;32m    350\u001b[0m \u001b[0;34m\u001b[0m\u001b[0m\n\u001b[1;32m    351\u001b[0m         \u001b[0;31m# evaluate fitness function\u001b[0m\u001b[0;34m\u001b[0m\u001b[0;34m\u001b[0m\u001b[0m\n\u001b[0;32m--> 352\u001b[0;31m         \u001b[0mfit_vec\u001b[0m \u001b[0;34m=\u001b[0m \u001b[0mfitfunc\u001b[0m\u001b[0;34m.\u001b[0m\u001b[0mfitness\u001b[0m\u001b[0;34m(\u001b[0m\u001b[0;34m**\u001b[0m\u001b[0mkwds\u001b[0m\u001b[0;34m)\u001b[0m\u001b[0;34m\u001b[0m\u001b[0m\n\u001b[0m\u001b[1;32m    353\u001b[0m \u001b[0;34m\u001b[0m\u001b[0m\n\u001b[1;32m    354\u001b[0m         \u001b[0mA_R\u001b[0m \u001b[0;34m=\u001b[0m \u001b[0mfit_vec\u001b[0m \u001b[0;34m-\u001b[0m \u001b[0mfitfunc\u001b[0m\u001b[0;34m.\u001b[0m\u001b[0mprior\u001b[0m\u001b[0;34m(\u001b[0m\u001b[0mR\u001b[0m \u001b[0;34m+\u001b[0m \u001b[0;36m1\u001b[0m\u001b[0;34m,\u001b[0m \u001b[0mN\u001b[0m\u001b[0;34m)\u001b[0m\u001b[0;34m\u001b[0m\u001b[0m\n",
        "\u001b[0;32m/usr/local/lib/python2.7/dist-packages/astroML/density_estimation/bayesian_blocks.pyc\u001b[0m in \u001b[0;36mfitness\u001b[0;34m(self, N_k, T_k)\u001b[0m\n\u001b[1;32m     74\u001b[0m     \u001b[0;32mdef\u001b[0m \u001b[0mfitness\u001b[0m\u001b[0;34m(\u001b[0m\u001b[0mself\u001b[0m\u001b[0;34m,\u001b[0m \u001b[0mN_k\u001b[0m\u001b[0;34m,\u001b[0m \u001b[0mT_k\u001b[0m\u001b[0;34m)\u001b[0m\u001b[0;34m:\u001b[0m\u001b[0;34m\u001b[0m\u001b[0m\n\u001b[1;32m     75\u001b[0m         \u001b[0;31m# eq. 19 from Scargle 2012\u001b[0m\u001b[0;34m\u001b[0m\u001b[0;34m\u001b[0m\u001b[0m\n\u001b[0;32m---> 76\u001b[0;31m         \u001b[0;32mreturn\u001b[0m \u001b[0mN_k\u001b[0m \u001b[0;34m*\u001b[0m \u001b[0;34m(\u001b[0m\u001b[0mnp\u001b[0m\u001b[0;34m.\u001b[0m\u001b[0mlog\u001b[0m\u001b[0;34m(\u001b[0m\u001b[0mN_k\u001b[0m\u001b[0;34m)\u001b[0m \u001b[0;34m-\u001b[0m \u001b[0mnp\u001b[0m\u001b[0;34m.\u001b[0m\u001b[0mlog\u001b[0m\u001b[0;34m(\u001b[0m\u001b[0mT_k\u001b[0m\u001b[0;34m)\u001b[0m\u001b[0;34m)\u001b[0m\u001b[0;34m\u001b[0m\u001b[0m\n\u001b[0m\u001b[1;32m     77\u001b[0m \u001b[0;34m\u001b[0m\u001b[0m\n\u001b[1;32m     78\u001b[0m     \u001b[0;32mdef\u001b[0m \u001b[0mprior\u001b[0m\u001b[0;34m(\u001b[0m\u001b[0mself\u001b[0m\u001b[0;34m,\u001b[0m \u001b[0mN\u001b[0m\u001b[0;34m,\u001b[0m \u001b[0mNtot\u001b[0m\u001b[0;34m)\u001b[0m\u001b[0;34m:\u001b[0m\u001b[0;34m\u001b[0m\u001b[0m\n",
        "\u001b[0;31mKeyboardInterrupt\u001b[0m: "
       ]
      },
      {
       "metadata": {},
       "output_type": "display_data",
       "png": "iVBORw0KGgoAAAANSUhEUgAAAXcAAAEACAYAAABI5zaHAAAABHNCSVQICAgIfAhkiAAAAAlwSFlz\nAAALEgAACxIB0t1+/AAAEIBJREFUeJzt3V1o22X/x/FPzKTI6mBKs/Zgq7jaJtasrOAmg8ykG1Wc\nuJPsRMY6RE+qHmwyfALbTrYi2xC0Ih7InB6IyCqIpDCtdzYVaspWn+oD29wDUtpk6Lo1ZcsG1/9A\n/q25t6VpmqTze79fUMgvufrLN9fKmx9pwzzOOScAgCm3zPcAAIDiI+4AYBBxBwCDiDsAGETcAcAg\n4g4ABuUV92PHjqmpqemGj8diMQWDQfn9fnV3dxdtOABAYWaM+3PPPafW1lbd6M/h0+m02tvb1d/f\nr+HhYfX19WloaKjogwIA8jdj3Pft26ejR4/eMO6JRELNzc3y+Xzyer2KRqOKxWJFHxQAkL+83pbJ\n9SHWkZER+Xy+qeOqqiqNjo7OfTIAQMHm/AtVj8cjr9ebdV8mk5nraQEAc7Bgrieorq5WKpWaOk4m\nk6qpqblmXV1dnU6ePDnXpwOA/ynLly/XiRMnZv19BV25X7hwQWfPnpUkrVq1SoODg0qlUrp69aoO\nHjyodevWXfM9J0+elHOOL+fU0dEx7zPcLF/sBXvBXuT+KvSieMa4d3R0aOPGjTp58qRWrVqlI0eO\n6JNPPlFbW5skqbKyUj09PYpEImpsbFRra6tCoVBBwwAAimPGt2W6urrU1dWVdd/atWun4i5JGzZs\n0IYNG4o/HQCgIHxCdR6Ew+H5HuGmwV5MYy+msRdz53HOleU/6/B4PCrTUwGAGYW2kyt3ADCIuAOA\nQcQdAAwi7gBgEHEHAIOIOwAYRNwBwCDiDgAGEXcAMIi4A4BBxB0ADCLuAGAQcQcAg4g7ABhE3AHA\nIOIOAAYRdwAwiLgDgEHEHQAMIu4AYBBxBwCDiDsAGETcAcAg4g4ABhF3ADCIuAOAQcQdAAwi7gBg\nEHEHAIOIOwAYRNwBwCDiDgAGEXcAMIi4A4BBM8Y9FospGAzK7/eru7v7umsOHDigYDCohoYGbdq0\nSel0uuiDAgDylzPu6XRa7e3t6u/v1/DwsPr6+jQ0NJS1ZmxsTDt37tTAwIB+++03+Xw+vfnmmyUd\nGgCQW864JxIJNTc3y+fzyev1KhqNKhaLZa3JZDJKp9O6ePGiJKm6uloVFRWlmxgAMKMFuR4cGRmR\nz+ebOq6qqtLx48ez1ixdulTbtm1TIBBQNBrV2NiYPv7449JMCwDIS864ezweeb3erPsymUzW8fj4\nuD799FMNDAzoxx9/VGdnp/r7+/XII49cc77Ozs6p2+FwWOFwuPDJAcCgeDyueDw+5/PkjHt1dbVS\nqdTUcTKZVE1NTdaazz//XIFAQA0NDWpoaFBlZaXeeuutGeMOALjWf1/4dnV1FXSenO+5r1q1SoOD\ng0qlUrp69aoOHjyodevW6cKFCzp79qwkafny5frqq6/0119/SZIGBwcVCAQKGgYAUBw5415ZWame\nnh5FIhE1NjaqtbVVoVBIvb29amtrkyStXLlSzzzzjB544AHde++9+vXXX9XR0VGW4QEA1+dxzrmy\nPJHHozI9FQCYUWg7+YQqABhE3AHAIOIOAAYRdwAwiLgDgEHEHQAMIu4AYBBxBwCDiDsAGETcAcAg\n4g4ABhF3ADCIuAOAQcQdAAwi7gBgEHEHAIOIOwAYRNwBwCDiDgAGEXcAMIi4A4BBxB0ADCLuAGAQ\ncQcAg4g7ABhE3AHAIOIOAAYRdwAwiLgDgEHEHQAMIu4AYBBxBwCDiDsAGETcAcAg4g4ABs0Y91gs\npmAwKL/fr+7u7uuumZyc1NNPP6177rlHtbW1Gh8fL/qgAID8Lcj1YDqdVnt7uxKJhO68805FIhE9\n/PDDWrlyZda6Z599VkuXLtXx48dLOiwAID85r9wTiYSam5vl8/nk9XoVjUYVi8Wy1oyOjurbb79V\nR0dHSQcFAOQvZ9xHRkbk8/mmjquqqjQ6Opq15qeffpLH41FLS4v8fr82b96sycnJ0kwLAMhLzrh7\nPB55vd6s+zKZTNZxMplUfX29Dh06pJ9//llLlixRV1dX8ScFAOQt53vu1dXVSqVSU8fJZFI1NTVZ\na+644w4tXLhQt956qyRp48aN2rt373XP19nZOXU7HA4rHA4XODYA2BSPxxWPx+d8Ho9zzt3owYmJ\nCQWDQSUSCS1evFgtLS3atWuXmpqadP78eS1btkwXLlzQihUrdPjwYdXW1urFF1/U7bffrpdeein7\niTwe5XgqAMB1FNrOnG/LVFZWqqenR5FIRI2NjWptbVUoFFJvb6/a2tokSYsWLdK7776rjRs3qrGx\nUefOndOOHTsKexUAgKLIeeVe1Cfiyh0AZq0kV+4AgH8n4g4ABhF3ADCIuAOAQcQdAAwi7gBgEHEH\nAIOIOwAYRNwBwCDiDgAGEXcAMIi4A4BBxB0ADCLuAGAQcQcAg4g7ABhE3AHAIOIOAAYRdwAwiLgD\ngEHEHQAMIu4AYBBxBwCDiDsAGETcAcAg4g4ABhF3ADCIuAOAQcQdAAwi7gBgEHEHAIOIOwAYRNwB\nwCDiDgAGEXcAMIi4A4BBM8Y9FospGAzK7/eru7s759o9e/YoGAwWbTgAQGFyxj2dTqu9vV39/f0a\nHh5WX1+fhoaGrrv2m2++0YcffiiPx1OSQQEA+csZ90QioebmZvl8Pnm9XkWjUcVisWvWnTt3Ttu3\nb9c777wj51zJhgUA5Cdn3EdGRuTz+aaOq6qqNDo6mrXGOaetW7dqz549WWsBAPMnZ9w9Ho+8Xm/W\nfZlMJuv49ddf15o1a7R27Vqu2gHgJrEg14PV1dVKpVJTx8lkUjU1NVlrTp8+rUOHDumDDz7QlStX\n9Mcff+jBBx/U4cOHrzlfZ2fn1O1wOKxwODy36QHAmHg8rng8PufzeFyOy+2JiQkFg0ElEgktXrxY\nLS0t2rVrl5qamnT+/HktW7Ysa/2ZM2f06KOP6scff7z2iTweruwBYJYKbWfOt2UqKyvV09OjSCSi\nxsZGtba2KhQKqbe3V21tbdesd87x1zIAcBPIeeVe1Cfiyh0AZq0kV+4AgH8n4g4ABhF3ADCIuAOA\nQcQdAAwi7gBgEHEHAIOIOwAYRNwBwCDiDgAGEXcAMIi4A4BBxB0ADCLuAGAQcQcAg4g7ABhE3AHA\nIOIOAAYRdwAwiLgDgEHEHQAMIu4AYBBxBwCDiDsAGETcAcAg4g4ABhF3ADCIuAOAQcQdAAwi7gBg\nEHEHAIOIOwAYRNwBwCDiDgAGEXcAMIi4A4BBM8Y9FospGAzK7/eru7v7mscvX76s9evXq66uTg0N\nDdddAwAor5xxT6fTam9vV39/v4aHh9XX16ehoaFr1r388ss6ceKEfvjhB3300Uf6/vvvSzYwAGBm\nOeOeSCTU3Nwsn88nr9eraDSqWCyWtaaiokKRSGTqdl1dnZLJZOkmBgDMKGfcR0ZG5PP5po6rqqo0\nOjp6w/VjY2MaGBjQ6tWrizchAGDWFuR60OPxyOv1Zt2XyWSuu/bSpUvatGmTdu/erUWLFl13TWdn\n59TtcDiscDg8u2kBwLh4PK54PD7n8+SMe3V1tVKp1NRxMplUTU3NNesuX76saDSqDRs2aMuWLTc8\n3z/jDgC41n9f+HZ1dRV0npxvy6xatUqDg4NKpVK6evWqDh48qHXr1unChQs6e/asJGlyclKPPfaY\n1q5dq+eff76gIQAAxZUz7pWVlerp6VEkElFjY6NaW1sVCoXU29urtrY2SX//0vXw4cPav3+/AoGA\nAoGAXn755bIMDwC4Po9zzpXliTwelempAMCMQtvJJ1QBwCDiDgAGEXcAMIi4A4BBxB0ADCLuAGAQ\ncQcAg4g7ABhE3AHAIOIOAAYRdwAwiLgDgEHEHQAMIu4AYBBxBwCDiDsAGETcAcAg4g4ABhF3ADCI\nuAOAQcQdAAwi7gBgEHEHAIOIOwAYRNwBwCDiDgAGEXcAMIi4A4BBxB0ADCLuAGAQcQcAg4g7ABhE\n3AHAIOIOAAYRdwAwaMa4x2IxBYNB+f1+dXd3F7wGAFA+OeOeTqfV3t6u/v5+DQ8Pq6+vT0NDQ7Ne\ng2zxeHy+R7hpsBfT2Itp7MXc5Yx7IpFQc3OzfD6fvF6votGoYrHYrNcgGz+409iLaezFNPZi7nLG\nfWRkRD6fb+q4qqpKo6Ojs14DACivnHH3eDzyer1Z92UymVmvAQCU14JcD1ZXVyuVSk0dJ5NJ1dTU\nzHqNJC1fvlwej2eu85rR1dU13yPcNNiLaezFNPbib8uXLy/o+zzOOXejBycmJhQMBpVIJLR48WK1\ntLRo165dampq0vnz57Vs2bIbrgmFQgW/GADA3OR8W6ayslI9PT2KRCJqbGxUa2urQqGQent71dbW\nlnMNAGD+5LxyBwD8OxX9E6p86GnaTK/z8uXLWr9+verq6tTQ0PA/vRf/tGfPHgWDwTJNVn757MXk\n5KSefvpp3XPPPaqtrdX4+HiZpyyPfPbiwIEDCgaDamho0KZNm5ROp8s8ZXkcO3ZMTU1NN3x81t10\nRTQxMeFqa2vd2NiYu3r1qguFQu7YsWOzXmNBPq/z0qVL7ssvv5y63dTU5L777rv5GLekZvNv/vXX\nX7uVK1e6YDBY5inLI9+9eOKJJ1xHR0f5ByyjfPZidHTU3X333W5iYsI551x7e7vr7u6ej3FLavv2\n7e7OO++84c99Id0s6pU7H3qals/rrKioUCQSmbpdV1enZDI5H+OWVL7/5ufOndP27dv1zjvvyBl9\ntzCfvRgdHdW3336rjo6OeZqyPPLZi0wmo3Q6rYsXL0r6+6/zKioq5mPcktq3b5+OHj16w5/7QrpZ\n1Ljzoadps32dY2NjGhgY0OrVq8sxXlnlsxfOOW3dulV79uzJWmtNPnvx008/yePxqKWlRX6/X5s3\nb9bk5GS5Ry25fPZi6dKl2rZtmwKBgJ566ikNDg6qvb293KOWRa4LmkK6WdS486GnabN5nZcuXdKm\nTZu0e/duLVq0qBzjlVU+e/H6669rzZo1Wrt2rdmrdim/vUgmk6qvr9ehQ4f0888/a8mSJSb/5juf\nvRgfH9enn36qgYEBPfTQQ/r999/V399fzjFvCoV0s6hxL+aHnv7t8n2dly9fVjQa1YYNG7Rly5Zy\njlg2+ezF6dOn9f777ysQCGj9+vU6fvy4HnzwwXKPWnL57MUdd9yhhQsX6tZbb9Utt9yijRs36pdf\nfin3qCWXz158/vnnCgQCamhoUDQa1d69e/X222+Xe9R5V1A3i/lLgYsXL7q77rrLJZNJd+XKFRcK\nhdyRI0fc+Pi4O3PmTM411uSzF+l02rW2trrXXnttnqctrXz24p9Onz7t7rvvvnmYtPTy2Yvx8XFX\nW1vrTp8+7Zxz7oUXXnC7du2az7FLIp+9OHbsmKuvr3d//vmnc865nTt3uh07dszn2CVz6tSprJ/7\nuXazqHF3zrnPPvvMNTY2uvr6evfqq68655zbv3+/C4fDOddYNNNe/Oc//3EVFRXO7/dPfb300kvz\nOXLJ5PNz8f9OnTpl9q9lnMtvL7744gvX1NTk7r33Xvfkk0+6TCYzX+OWVD578cYbb7j6+noXCATc\n448/PvWXM5a88sorbsWKFe62225z999/vzt8+LB777335tRNPsQEAAbx3+wBgEHEHQAMIu4AYBBx\nBwCDiDsAGETcAcAg4g4ABhF3ADDo/wCP5ArVpgst/AAAAABJRU5ErkJggg==\n",
       "text": [
        "<matplotlib.figure.Figure at 0x7f6c82d95f10>"
       ]
      }
     ],
     "prompt_number": 24
    },
    {
     "cell_type": "code",
     "collapsed": false,
     "input": [
      "fittype='tte'"
     ],
     "language": "python",
     "metadata": {},
     "outputs": [],
     "prompt_number": 16
    },
    {
     "cell_type": "code",
     "collapsed": false,
     "input": [
      "%qtconsole"
     ],
     "language": "python",
     "metadata": {},
     "outputs": [],
     "prompt_number": 8
    },
    {
     "cell_type": "code",
     "collapsed": false,
     "input": [],
     "language": "python",
     "metadata": {},
     "outputs": []
    }
